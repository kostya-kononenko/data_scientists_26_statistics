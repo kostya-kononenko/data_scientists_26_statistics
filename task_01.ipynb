{
 "cells": [
  {
   "cell_type": "code",
   "execution_count": 1,
   "metadata": {
    "collapsed": true
   },
   "outputs": [
    {
     "name": "stdout",
     "output_type": "stream",
     "text": [
      "The probability that the number of TVs that will withstand the warranty period of operation will be in the range [85;95] is equal to 93.64%\n"
     ]
    }
   ],
   "source": [
    "import math\n",
    "\n",
    "p = 0.9\n",
    "n = 100\n",
    "min_tv = 85\n",
    "max_tv = 95\n",
    "probability = sum([math.comb(n, k) * (p ** k) * ((1-p) ** (n-k)) for k in range(min_tv, max_tv+1)])\n",
    "\n",
    "print(f\"The probability that the number of TVs that will \"\n",
    "      f\"withstand the warranty period of operation will be \"\n",
    "      f\"in the range [85;95] is equal to {probability:.2%}\")"
   ]
  }
 ],
 "metadata": {
  "kernelspec": {
   "display_name": "Python 3",
   "language": "python",
   "name": "python3"
  },
  "language_info": {
   "codemirror_mode": {
    "name": "ipython",
    "version": 2
   },
   "file_extension": ".py",
   "mimetype": "text/x-python",
   "name": "python",
   "nbconvert_exporter": "python",
   "pygments_lexer": "ipython2",
   "version": "2.7.6"
  }
 },
 "nbformat": 4,
 "nbformat_minor": 0
}
